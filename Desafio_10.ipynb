{
  "cells": [
    {
      "cell_type": "markdown",
      "metadata": {
        "id": "view-in-github",
        "colab_type": "text"
      },
      "source": [
        "<a href=\"https://colab.research.google.com/github/Valdilene/br-python-challenges/blob/master/Desafio_10.ipynb\" target=\"_parent\"><img src=\"https://colab.research.google.com/assets/colab-badge.svg\" alt=\"Open In Colab\"/></a>"
      ]
    },
    {
      "cell_type": "markdown",
      "metadata": {
        "id": "a4-FLDRof6Jv"
      },
      "source": [
        "### Desafio 10\n",
        "\n",
        "Dada uma lista, divida-a em 3 partes iguais e reverta a ordem de cada lista.\n",
        "\n",
        "**Exemplo:** \n",
        "\n",
        "Entrada: \\\n",
        "sampleList = [11, 45, 8, 23, 14, 12, 78, 45, 89]\n",
        "\n",
        "Saída: \\\n",
        "Parte 1 [8, 45, 11] \\\n",
        "Parte 2 [12, 14, 23] \\\n",
        "Parte 3 [89, 45, 78] "
      ]
    },
    {
      "cell_type": "code",
      "execution_count": null,
      "metadata": {
        "id": "IJ70pUjnf6Jw"
      },
      "outputs": [],
      "source": [
        "# Seu código"
      ]
    },
    {
      "cell_type": "code",
      "execution_count": null,
      "metadata": {
        "id": "pNrXNVqf8Wc1"
      },
      "outputs": [],
      "source": [
        "#Get a list as input from user\n",
        "#Using map() \n",
        "\n",
        "# number of elements (must be multiple of 3)\n",
        "n = int(input(\"Enter number of elements : \"))\n",
        "  \n",
        "# Below line read inputs from user using map() function \n",
        "a = list(map(int,input(\"\\nEnter the numbers : \").strip().split()))[:n]\n",
        "  \n",
        "print(a)\n",
        "\n",
        "#Split the list in 3 parts:\n",
        "index = len(a)//3\n",
        "\n",
        "Part_1 = a[:index]\n",
        "Part_1.reverse()\n",
        "print(Part_1)\n",
        "\n",
        "\n",
        "Part_2 = a[index:index*2]\n",
        "Part_2.reverse()\n",
        "print(Part_2)\n",
        "\n",
        "Part_3 = a[index*2:]\n",
        "Part_3.reverse()\n",
        "print(Part_3)"
      ]
    }
  ],
  "metadata": {
    "anaconda-cloud": {},
    "colab": {
      "name": "Desafio 10.ipynb",
      "provenance": [],
      "include_colab_link": true
    },
    "kernelspec": {
      "display_name": "Python 3",
      "language": "python",
      "name": "python3"
    },
    "language_info": {
      "codemirror_mode": {
        "name": "ipython",
        "version": 3
      },
      "file_extension": ".py",
      "mimetype": "text/x-python",
      "name": "python",
      "nbconvert_exporter": "python",
      "pygments_lexer": "ipython3",
      "version": "3.7.9"
    }
  },
  "nbformat": 4,
  "nbformat_minor": 0
}