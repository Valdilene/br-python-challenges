{
  "cells": [
    {
      "cell_type": "markdown",
      "metadata": {
        "id": "view-in-github",
        "colab_type": "text"
      },
      "source": [
        "<a href=\"https://colab.research.google.com/github/Valdilene/br-python-challenges/blob/master/Desafio_08.ipynb\" target=\"_parent\"><img src=\"https://colab.research.google.com/assets/colab-badge.svg\" alt=\"Open In Colab\"/></a>"
      ]
    },
    {
      "cell_type": "markdown",
      "metadata": {
        "id": "o3tkeMDNf6Jo"
      },
      "source": [
        "### Desafio 8\n",
        "\n",
        "Escreva um script Python para encontrar as 10 palavras mais longas em um arquivo de texto.\n",
        "O arquivo .txt está localizado na mesma pasta do projeto (**texto.txt**)."
      ]
    },
    {
      "cell_type": "code",
      "execution_count": null,
      "metadata": {
        "id": "EknxjSG0f6Jo"
      },
      "outputs": [],
      "source": [
        "# Seu código"
      ]
    },
    {
      "cell_type": "code",
      "source": [
        "with open('texto.txt',\"r\") as f:\n",
        "    texto = f.read()\n"
      ],
      "metadata": {
        "id": "C7EscDxnq_5i"
      },
      "execution_count": 84,
      "outputs": []
    },
    {
      "cell_type": "code",
      "source": [
        "#Removing whitespaces and newline characters\n",
        "texto = \" \".join(texto.split())\n",
        "texto.split(\".\")\n"
      ],
      "metadata": {
        "id": "t3au47PSrwbU",
        "outputId": "7834be25-4de4-4bbb-dd18-ebc5469a0cc8",
        "colab": {
          "base_uri": "https://localhost:8080/"
        }
      },
      "execution_count": 87,
      "outputs": [
        {
          "output_type": "execute_result",
          "data": {
            "text/plain": [
              "['What is Python language? Python is a widely used high-level, general-purpose, interpreted, dynamic programming language',\n",
              " 'Its design philosophy emphasizes code readability, and its syntax allows programmers to express concepts in fewer lines of code than possible in languages such as C++ or Java',\n",
              " ' Python supports multiple programming paradigms, including object-oriented, imperative and functional programming or procedural styles',\n",
              " 'It features a dynamic type system and automatic memory management and has a large and comprehensive standard library',\n",
              " 'The best way we learn anything is by practice and exercise questions',\n",
              " ' We have started this section for those (beginner to intermediate) who are familiar with Python',\n",
              " '']"
            ]
          },
          "metadata": {},
          "execution_count": 87
        }
      ]
    },
    {
      "cell_type": "code",
      "source": [
        "texto.split(\"?\")\n"
      ],
      "metadata": {
        "id": "SPmTRGETUwku",
        "outputId": "1a6eebfb-304d-4a8a-9410-5c9bb3c5e31d",
        "colab": {
          "base_uri": "https://localhost:8080/"
        }
      },
      "execution_count": 76,
      "outputs": [
        {
          "output_type": "execute_result",
          "data": {
            "text/plain": [
              "['What is Python language',\n",
              " ' Python is a widely used high-level, general-purpose, interpreted, dynamic programming language.Its design philosophy emphasizes code readability, and its syntax allows programmers to express concepts in fewer lines of code than possible in languages such as C++ or Java. Python supports multiple programming paradigms, including object-oriented, imperative and functional programming or procedural styles.It features a dynamic type system and automatic memory management and has a large and comprehensive standard library.The best way we learn anything is by practice and exercise questions. We have started this section for those (beginner to intermediate) who are familiar with Python.']"
            ]
          },
          "metadata": {},
          "execution_count": 76
        }
      ]
    },
    {
      "cell_type": "code",
      "source": [
        "texto.split(\",\")"
      ],
      "metadata": {
        "id": "9nzNj_gSU13b",
        "outputId": "fa47d592-b5e7-4a06-911b-a2498194f550",
        "colab": {
          "base_uri": "https://localhost:8080/"
        }
      },
      "execution_count": 77,
      "outputs": [
        {
          "output_type": "execute_result",
          "data": {
            "text/plain": [
              "['What is Python language? Python is a widely used high-level',\n",
              " ' general-purpose',\n",
              " ' interpreted',\n",
              " ' dynamic programming language.Its design philosophy emphasizes code readability',\n",
              " ' and its syntax allows programmers to express concepts in fewer lines of code than possible in languages such as C++ or Java. Python supports multiple programming paradigms',\n",
              " ' including object-oriented',\n",
              " ' imperative and functional programming or procedural styles.It features a dynamic type system and automatic memory management and has a large and comprehensive standard library.The best way we learn anything is by practice and exercise questions. We have started this section for those (beginner to intermediate) who are familiar with Python.']"
            ]
          },
          "metadata": {},
          "execution_count": 77
        }
      ]
    },
    {
      "cell_type": "code",
      "source": [
        "#Removing punctuation \n",
        "punc = '''!()[]{};:.'\"\\,<>./?@#$%^&*_~'''\n",
        "\n",
        "for elem in texto:\n",
        "  if elem in punc:\n",
        "    texto=texto.replace(elem,\" \")\n",
        "print(texto)\n"
      ],
      "metadata": {
        "id": "EVNmA1qxCsOD",
        "outputId": "93874954-898b-44da-9e68-f9f34b667421",
        "colab": {
          "base_uri": "https://localhost:8080/"
        }
      },
      "execution_count": 88,
      "outputs": [
        {
          "output_type": "stream",
          "name": "stdout",
          "text": [
            "What is Python language  Python is a widely used high-level  general-purpose  interpreted  dynamic programming language Its design philosophy emphasizes code readability  and its syntax allows programmers to express concepts in fewer lines of code than possible in languages such as C++ or Java  Python supports multiple programming paradigms  including object-oriented  imperative and functional programming or procedural styles It features a dynamic type system and automatic memory management and has a large and comprehensive standard library The best way we learn anything is by practice and exercise questions  We have started this section for those  beginner to intermediate  who are familiar with Python \n"
          ]
        }
      ]
    },
    {
      "cell_type": "code",
      "source": [
        "lista=texto.split(\" \")"
      ],
      "metadata": {
        "id": "PxfH9IH3DOqm"
      },
      "execution_count": 89,
      "outputs": []
    },
    {
      "cell_type": "code",
      "source": [
        "lista = set(lista)\n",
        "lista = (sorted(lista,key=len, reverse=True))\n",
        "lista = lista[:10]\n"
      ],
      "metadata": {
        "id": "ucjLArtVEBPk"
      },
      "execution_count": 93,
      "outputs": []
    }
  ],
  "metadata": {
    "anaconda-cloud": {},
    "colab": {
      "name": "Desafio 8.ipynb",
      "provenance": [],
      "include_colab_link": true
    },
    "kernelspec": {
      "display_name": "Python 3",
      "language": "python",
      "name": "python3"
    },
    "language_info": {
      "codemirror_mode": {
        "name": "ipython",
        "version": 3
      },
      "file_extension": ".py",
      "mimetype": "text/x-python",
      "name": "python",
      "nbconvert_exporter": "python",
      "pygments_lexer": "ipython3",
      "version": "3.7.9"
    }
  },
  "nbformat": 4,
  "nbformat_minor": 0
}